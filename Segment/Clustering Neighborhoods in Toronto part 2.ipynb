{
    "nbformat_minor": 1, 
    "cells": [
        {
            "execution_count": 19, 
            "cell_type": "code", 
            "metadata": {}, 
            "outputs": [
                {
                    "output_type": "stream", 
                    "name": "stderr", 
                    "text": "/opt/conda/envs/DSX-Python35/lib/python3.5/site-packages/ipykernel/__main__.py:46: SettingWithCopyWarning: \nA value is trying to be set on a copy of a slice from a DataFrame\n\nSee the caveats in the documentation: http://pandas.pydata.org/pandas-docs/stable/indexing.html#indexing-view-versus-copy\n"
                }
            ], 
            "source": "import numpy as np # library to handle data in a vectorized manner\nimport pandas as pd # library for data analsysis\nimport requests\n\nwikipedia_link='https://en.wikipedia.org/wiki/List_of_postal_codes_of_Canada:_M'\nraw_random_wikipedia_page = requests.get(wikipedia_link)\npage=raw_random_wikipedia_page.text\n\nfrom bs4 import BeautifulSoup\ntoronto_data = BeautifulSoup(page,'lxml')\n\n# creat a new Dataframe\n\ntoronto_df = pd.DataFrame(columns = [\"PostalCode\", \"Borough\", \"Neighborhood\"])\n\n# loop through to find postcode, borough, neighborhood \ncontent = toronto_data.find('div', class_='mw-parser-output')\ntable = content.table.tbody\npostcode = 0\nborough = 0\nneighborhood = 0\n\n# every one <tr> tag contains three <td> tags, nest loop used to extract the postcode, borough and neighborhood  \nfor tr in table.find_all('tr'):\n    i = 0\n    for td in tr.find_all('td'):\n        if i == 0:\n            postcode = td.text\n            i = i + 1\n        elif i == 1:\n            borough = td.text\n            i = i + 1\n        elif i == 2: \n            neighborhood = td.text.strip('\\n').replace(']','')\n    toronto_df = toronto_df.append({'Postalcode': postcode,'Borough': borough,'Neighborhood': neighborhood},ignore_index=True)\n\n# clean dataframe cells: Ignore cells with a borough that is Not assigned \ntoronto_df = toronto_df[toronto_df.Borough!='Not assigned']\ntoronto_df = toronto_df[toronto_df.Borough!= 0]\ntoronto_df.reset_index(drop = True, inplace = True)\n\n# clean dataframe cells: If a cell has a borough but a not assigned neighborhood, then assign the neighborhood will be the same as the borough \ni = 0\nfor i in range(0,toronto_df.shape[0]):\n    if toronto_df.iloc[i][2] == 'Not assigned':\n        toronto_df.iloc[i][2] = toronto_df.iloc[i][1]\n        i = i+1\n                                 \ndf = toronto_df.groupby(['Postalcode','Borough'])['Neighborhood'].apply(', '.join).reset_index()"
        }, 
        {
            "execution_count": 20, 
            "cell_type": "code", 
            "metadata": {}, 
            "outputs": [
                {
                    "output_type": "stream", 
                    "name": "stdout", 
                    "text": "--2019-03-15 12:47:52--  http://cocl.us/Geospatial_data\nResolving cocl.us (cocl.us)... 159.8.72.228\nConnecting to cocl.us (cocl.us)|159.8.72.228|:80... connected.\nHTTP request sent, awaiting response... 301 Moved Permanently\nLocation: https://cocl.us/Geospatial_data [following]\n--2019-03-15 12:47:52--  https://cocl.us/Geospatial_data\nConnecting to cocl.us (cocl.us)|159.8.72.228|:443... connected.\nHTTP request sent, awaiting response... 301 Moved Permanently\nLocation: https://ibm.box.com/shared/static/9afzr83pps4pwf2smjjcf1y5mvgb18rr.csv [following]\n--2019-03-15 12:47:54--  https://ibm.box.com/shared/static/9afzr83pps4pwf2smjjcf1y5mvgb18rr.csv\nResolving ibm.box.com (ibm.box.com)... 107.152.25.197, 107.152.24.197\nConnecting to ibm.box.com (ibm.box.com)|107.152.25.197|:443... connected.\nHTTP request sent, awaiting response... 301 Moved Permanently\nLocation: /public/static/9afzr83pps4pwf2smjjcf1y5mvgb18rr.csv [following]\n--2019-03-15 12:47:55--  https://ibm.box.com/public/static/9afzr83pps4pwf2smjjcf1y5mvgb18rr.csv\nReusing existing connection to ibm.box.com:443.\nHTTP request sent, awaiting response... 301 Moved Permanently\nLocation: https://ibm.ent.box.com/public/static/9afzr83pps4pwf2smjjcf1y5mvgb18rr.csv [following]\n--2019-03-15 12:47:55--  https://ibm.ent.box.com/public/static/9afzr83pps4pwf2smjjcf1y5mvgb18rr.csv\nResolving ibm.ent.box.com (ibm.ent.box.com)... 107.152.24.211, 107.152.25.211\nConnecting to ibm.ent.box.com (ibm.ent.box.com)|107.152.24.211|:443... connected.\nHTTP request sent, awaiting response... 302 Found\nLocation: https://public.boxcloud.com/d/1/b1!UgpNLh-Q0OeFfncINzvZh1U3f8-C1Yxhh9d0OXVBxqp7CJUIlVW7o49lpZLH-TNn6erpKYAzFpDrjlO8L61smCC2ggWbJcLp02hBGQxDIpNY2ZSAvhwBVXW3ezarYqs5VB1vLdnVPUk6pYvqRwSCbKkLO6jWmaAYl5q0OWC98Rit-iB0zS5f35YVesyKkvKnu3p_3NiFKS90p1_JYqIdmnkRjVybeTiOF_4KvQ-B-Jwr5Pg8voLjaUNcog5k2sS2PWuDHqZQmeBQGZYjADt9QMt-M1Oycmmdjtw3IcqIgBcGs5TROsxGy1wtdHmPEr5uATP8JwLlyjaylGMJg32t0t9hN9-K-1yFgoKZQwtTUgqTY74Sxr2QCEDgM_mrLPgColjMLKT_WYta-7bxP0PEc0UgXL2wM7qVGF6AHEUPWOq1cSKnIEzakGQctbHNGHf1UfwQTXS-6hClgiRebze-XezWyhzIC1BvkAvr9n0iP1c69-CP4PlMWim8SdR8dsS4Ytr2pjPWNoxfwAsVTVJqYk1DWJYIAq4ysmyZqMHBoUJLY31YCGVc9WFAWIYjfrpUq4czuMTwDy7KrGL445-QaLD4ogjpNRZ6nC8GYKIEUvU-Q1uehnjMaWxpDTLwkSfmFNGpfNtWKHMHooXT8OgbhEb9vx-HfgTUCtBovQBiYwyN8s30jD5uabPAhQAYux6Qtji6-ICB67OWv9CXy5ik2IMvnGJjvik4N0Da99lVR4CvRdObEfsfFFYxBvd1S4OCXCofXlO-gYN4aPPXGbJY0GSLY3CqmGKWgvxHGVYvTXxXoruf36zG3evCnFyYXWva3utpkbv89vTV7-5AFWYyik-1C0pmiTlMInMaBhzwZxssnujzXCw2AFK8WeRqloelaEeh_FzYGf8c_0XlBBgxOAX1msV_3Lso_r--_PBhHG-9tlnxvpiWt44uoD1S_FNELH2DVdQyaVj3Gtilqp1IMgK5QLBL883EU6wPKoah57FYSMQVQ2mUJPfgi9pE4C3iJk-pNXa81cmoSQMdp2gfr3Zg5-umupHKZPa4-LzAmVEp8ldKCsd7Yl9Z0OJsZ1vpEea81avtr7AaVJEpBVWr5w1ZSK0JBPPNaJPvQmjUWyN6Dhx7h11TQ_yEw6KfOl4rvQLPgcMo-DGqb9t4Wn40GQuMT0Vf6TH_yX7Yhnn-XtgTJv9j_4Uyr6o1a7tEfxgdZ-hGFWD6kg1LZNCvMawHA9Bl5HGqSXGVAE7_AabPIv5DpF8N7na2XNa-E3NGg2o8tcWcMfv3kAuSWd8H_PGfQHCFY3lJUyj56dzvYuFapV-A3d1Tp40ilH_i5i-SnM_IbBk2TCaBhl-g7BHwcqA50ZyfzUfxPLLNiQhAYChZBlFS0sFKUUtqtbf1esCTqcp4wLOEtQyoiS93P7-dekRjwVEbl-7LhzmTnHCnqHTRyFH9v1-V/download [following]\n--2019-03-15 12:47:56--  https://public.boxcloud.com/d/1/b1!UgpNLh-Q0OeFfncINzvZh1U3f8-C1Yxhh9d0OXVBxqp7CJUIlVW7o49lpZLH-TNn6erpKYAzFpDrjlO8L61smCC2ggWbJcLp02hBGQxDIpNY2ZSAvhwBVXW3ezarYqs5VB1vLdnVPUk6pYvqRwSCbKkLO6jWmaAYl5q0OWC98Rit-iB0zS5f35YVesyKkvKnu3p_3NiFKS90p1_JYqIdmnkRjVybeTiOF_4KvQ-B-Jwr5Pg8voLjaUNcog5k2sS2PWuDHqZQmeBQGZYjADt9QMt-M1Oycmmdjtw3IcqIgBcGs5TROsxGy1wtdHmPEr5uATP8JwLlyjaylGMJg32t0t9hN9-K-1yFgoKZQwtTUgqTY74Sxr2QCEDgM_mrLPgColjMLKT_WYta-7bxP0PEc0UgXL2wM7qVGF6AHEUPWOq1cSKnIEzakGQctbHNGHf1UfwQTXS-6hClgiRebze-XezWyhzIC1BvkAvr9n0iP1c69-CP4PlMWim8SdR8dsS4Ytr2pjPWNoxfwAsVTVJqYk1DWJYIAq4ysmyZqMHBoUJLY31YCGVc9WFAWIYjfrpUq4czuMTwDy7KrGL445-QaLD4ogjpNRZ6nC8GYKIEUvU-Q1uehnjMaWxpDTLwkSfmFNGpfNtWKHMHooXT8OgbhEb9vx-HfgTUCtBovQBiYwyN8s30jD5uabPAhQAYux6Qtji6-ICB67OWv9CXy5ik2IMvnGJjvik4N0Da99lVR4CvRdObEfsfFFYxBvd1S4OCXCofXlO-gYN4aPPXGbJY0GSLY3CqmGKWgvxHGVYvTXxXoruf36zG3evCnFyYXWva3utpkbv89vTV7-5AFWYyik-1C0pmiTlMInMaBhzwZxssnujzXCw2AFK8WeRqloelaEeh_FzYGf8c_0XlBBgxOAX1msV_3Lso_r--_PBhHG-9tlnxvpiWt44uoD1S_FNELH2DVdQyaVj3Gtilqp1IMgK5QLBL883EU6wPKoah57FYSMQVQ2mUJPfgi9pE4C3iJk-pNXa81cmoSQMdp2gfr3Zg5-umupHKZPa4-LzAmVEp8ldKCsd7Yl9Z0OJsZ1vpEea81avtr7AaVJEpBVWr5w1ZSK0JBPPNaJPvQmjUWyN6Dhx7h11TQ_yEw6KfOl4rvQLPgcMo-DGqb9t4Wn40GQuMT0Vf6TH_yX7Yhnn-XtgTJv9j_4Uyr6o1a7tEfxgdZ-hGFWD6kg1LZNCvMawHA9Bl5HGqSXGVAE7_AabPIv5DpF8N7na2XNa-E3NGg2o8tcWcMfv3kAuSWd8H_PGfQHCFY3lJUyj56dzvYuFapV-A3d1Tp40ilH_i5i-SnM_IbBk2TCaBhl-g7BHwcqA50ZyfzUfxPLLNiQhAYChZBlFS0sFKUUtqtbf1esCTqcp4wLOEtQyoiS93P7-dekRjwVEbl-7LhzmTnHCnqHTRyFH9v1-V/download\nResolving public.boxcloud.com (public.boxcloud.com)... 107.152.25.200, 107.152.24.200\nConnecting to public.boxcloud.com (public.boxcloud.com)|107.152.25.200|:443... connected.\nHTTP request sent, awaiting response... 200 OK\nLength: 2891 (2.8K) [text/csv]\nSaving to: \u2018Geospatial_Coordinates.csv\u2019\n\n100%[======================================>] 2,891       --.-K/s   in 0s      \n\n2019-03-15 12:47:56 (486 MB/s) - \u2018Geospatial_Coordinates.csv\u2019 saved [2891/2891]\n\n"
                }
            ], 
            "source": "!wget -O Geospatial_Coordinates.csv http://cocl.us/Geospatial_data"
        }, 
        {
            "execution_count": 22, 
            "cell_type": "code", 
            "metadata": {}, 
            "outputs": [], 
            "source": "df_geo = pd.read_csv('Geospatial_Coordinates.csv')\ndf_geo = df_geo.rename(columns={'Postal Code': 'Postalcode'})"
        }, 
        {
            "execution_count": 23, 
            "cell_type": "code", 
            "metadata": {}, 
            "outputs": [], 
            "source": "df3 = pd.merge(df, df_geo, how='inner',copy=True)"
        }, 
        {
            "execution_count": 25, 
            "cell_type": "code", 
            "metadata": {}, 
            "outputs": [
                {
                    "output_type": "stream", 
                    "name": "stdout", 
                    "text": "(103, 5)\n"
                }, 
                {
                    "execution_count": 25, 
                    "metadata": {}, 
                    "data": {
                        "text/html": "<div>\n<style scoped>\n    .dataframe tbody tr th:only-of-type {\n        vertical-align: middle;\n    }\n\n    .dataframe tbody tr th {\n        vertical-align: top;\n    }\n\n    .dataframe thead th {\n        text-align: right;\n    }\n</style>\n<table border=\"1\" class=\"dataframe\">\n  <thead>\n    <tr style=\"text-align: right;\">\n      <th></th>\n      <th>Postalcode</th>\n      <th>Borough</th>\n      <th>Neighborhood</th>\n      <th>Latitude</th>\n      <th>Longitude</th>\n    </tr>\n  </thead>\n  <tbody>\n    <tr>\n      <th>0</th>\n      <td>M1B</td>\n      <td>Scarborough</td>\n      <td>Rouge, Malvern</td>\n      <td>43.806686</td>\n      <td>-79.194353</td>\n    </tr>\n    <tr>\n      <th>1</th>\n      <td>M1C</td>\n      <td>Scarborough</td>\n      <td>Highland Creek, Rouge Hill, Port Union</td>\n      <td>43.784535</td>\n      <td>-79.160497</td>\n    </tr>\n    <tr>\n      <th>2</th>\n      <td>M1E</td>\n      <td>Scarborough</td>\n      <td>Guildwood, Morningside, West Hill</td>\n      <td>43.763573</td>\n      <td>-79.188711</td>\n    </tr>\n    <tr>\n      <th>3</th>\n      <td>M1G</td>\n      <td>Scarborough</td>\n      <td>Woburn</td>\n      <td>43.770992</td>\n      <td>-79.216917</td>\n    </tr>\n    <tr>\n      <th>4</th>\n      <td>M1H</td>\n      <td>Scarborough</td>\n      <td>Cedarbrae</td>\n      <td>43.773136</td>\n      <td>-79.239476</td>\n    </tr>\n    <tr>\n      <th>5</th>\n      <td>M1J</td>\n      <td>Scarborough</td>\n      <td>Scarborough Village</td>\n      <td>43.744734</td>\n      <td>-79.239476</td>\n    </tr>\n    <tr>\n      <th>6</th>\n      <td>M1K</td>\n      <td>Scarborough</td>\n      <td>East Birchmount Park, Ionview, Kennedy Park</td>\n      <td>43.727929</td>\n      <td>-79.262029</td>\n    </tr>\n    <tr>\n      <th>7</th>\n      <td>M1L</td>\n      <td>Scarborough</td>\n      <td>Clairlea, Golden Mile, Oakridge</td>\n      <td>43.711112</td>\n      <td>-79.284577</td>\n    </tr>\n    <tr>\n      <th>8</th>\n      <td>M1M</td>\n      <td>Scarborough</td>\n      <td>Cliffcrest, Cliffside, Scarborough Village West</td>\n      <td>43.716316</td>\n      <td>-79.239476</td>\n    </tr>\n    <tr>\n      <th>9</th>\n      <td>M1N</td>\n      <td>Scarborough</td>\n      <td>Birch Cliff, Cliffside West</td>\n      <td>43.692657</td>\n      <td>-79.264848</td>\n    </tr>\n    <tr>\n      <th>10</th>\n      <td>M1P</td>\n      <td>Scarborough</td>\n      <td>Dorset Park, Scarborough Town Centre, Wexford ...</td>\n      <td>43.757410</td>\n      <td>-79.273304</td>\n    </tr>\n    <tr>\n      <th>11</th>\n      <td>M1R</td>\n      <td>Scarborough</td>\n      <td>Maryvale, Wexford</td>\n      <td>43.750072</td>\n      <td>-79.295849</td>\n    </tr>\n  </tbody>\n</table>\n</div>", 
                        "text/plain": "   Postalcode      Borough                                       Neighborhood  \\\n0         M1B  Scarborough                                     Rouge, Malvern   \n1         M1C  Scarborough             Highland Creek, Rouge Hill, Port Union   \n2         M1E  Scarborough                  Guildwood, Morningside, West Hill   \n3         M1G  Scarborough                                             Woburn   \n4         M1H  Scarborough                                          Cedarbrae   \n5         M1J  Scarborough                                Scarborough Village   \n6         M1K  Scarborough        East Birchmount Park, Ionview, Kennedy Park   \n7         M1L  Scarborough                    Clairlea, Golden Mile, Oakridge   \n8         M1M  Scarborough    Cliffcrest, Cliffside, Scarborough Village West   \n9         M1N  Scarborough                        Birch Cliff, Cliffside West   \n10        M1P  Scarborough  Dorset Park, Scarborough Town Centre, Wexford ...   \n11        M1R  Scarborough                                  Maryvale, Wexford   \n\n     Latitude  Longitude  \n0   43.806686 -79.194353  \n1   43.784535 -79.160497  \n2   43.763573 -79.188711  \n3   43.770992 -79.216917  \n4   43.773136 -79.239476  \n5   43.744734 -79.239476  \n6   43.727929 -79.262029  \n7   43.711112 -79.284577  \n8   43.716316 -79.239476  \n9   43.692657 -79.264848  \n10  43.757410 -79.273304  \n11  43.750072 -79.295849  "
                    }, 
                    "output_type": "execute_result"
                }
            ], 
            "source": "print(df3.shape)\ndf3.head(12)"
        }, 
        {
            "execution_count": null, 
            "cell_type": "code", 
            "metadata": {}, 
            "outputs": [], 
            "source": ""
        }
    ], 
    "metadata": {
        "kernelspec": {
            "display_name": "Python 3.5", 
            "name": "python3", 
            "language": "python"
        }, 
        "language_info": {
            "mimetype": "text/x-python", 
            "nbconvert_exporter": "python", 
            "version": "3.5.5", 
            "name": "python", 
            "file_extension": ".py", 
            "pygments_lexer": "ipython3", 
            "codemirror_mode": {
                "version": 3, 
                "name": "ipython"
            }
        }
    }, 
    "nbformat": 4
}
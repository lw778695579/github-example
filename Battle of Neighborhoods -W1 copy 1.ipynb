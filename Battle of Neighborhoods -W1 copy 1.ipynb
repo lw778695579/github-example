{
    "nbformat_minor": 1, 
    "cells": [
        {
            "source": "**Introduction/Business Problem:**\n\nBack to few years ago Ipsos Reid along with the **Canadian Restaurant Food Association** did a survey about the frequency of eating out by Canadians and the reasons why reveals some interesting highlight such as 1) 63% of Canadians see eating out as a **luxury**, only 16% saw it as an everyday activity. 2) 34% of Canadians actually dream of opening up some form of food and/or drinking establishment.32% of those that wanted to open up one, wanted to open up a **family style restaurant**. 3\uff0923% of Canadians eat out once a week. 4) In the Atlantic and **Ontario, people on average eat out 2 times a week**. \n\nThe statista also revels there are 38% of Canadians eating outside 1~3 times per week in 2018 (https://www.statista.com/statistics/561254/canada-average-fast-food-consumption-per-week/) and many Canadians will continue to enjoy meals prepared outside of the home. Base on thess study, we can almost make a conclusion that running a restaurant business maybe a good idea. \n\nBut opening a restaurant requires juggling many moving parts and can feel like a difficult undertaking. One of the key task is finding a good Location and understand the competition of that area. Some nearby competition can help with marketing. But it\u2019s wise to have enough of a distance that you can still guarantee a solid pool of customers who won\u2019t be easily drawn to another similar place. So how should we decide the right location to open a **high class** Chinese restaurant in the **Toronto city area** ? ", 
            "cell_type": "markdown", 
            "metadata": {}
        }, 
        {
            "source": "**Data:**\n\nTo help the stakeholder to decide a good location to open up the restaurant, the **Toronto neighborhood location data** (a general understanding of toronto city neighborhoods from geo-location perspective) plus the **neighborhood household income data** (high class restaurant means target to higher income customers) will be used together to do the indepth analysis and generate the Cluster to **narrow down our target location selection**. The **Foursquare data**(explore top 10 venues in each Toronto neighborhood) will also be used to explore the current Toronto restaurant locations to quickly understand where are those **major competitors**. \n\nAlthrough we narrow down the target location to a short-list neighborhoods, it is still need to discuss which one is the best to set up the stakeholder  restaurant. However, this data science project will give us a good starting point and allows the stakeholder to do the further ground survey.\n\nFrom the data availability point of view, if we can have kind of data describe what are those favorite Chinese dishes Canadian like to eat will give us a further help to design the restaurant dish menu.", 
            "cell_type": "markdown", 
            "metadata": {}
        }
    ], 
    "metadata": {
        "kernelspec": {
            "display_name": "Python 3.5", 
            "name": "python3", 
            "language": "python"
        }, 
        "language_info": {
            "mimetype": "text/x-python", 
            "nbconvert_exporter": "python", 
            "version": "3.5.5", 
            "name": "python", 
            "pygments_lexer": "ipython3", 
            "file_extension": ".py", 
            "codemirror_mode": {
                "version": 3, 
                "name": "ipython"
            }
        }
    }, 
    "nbformat": 4
}